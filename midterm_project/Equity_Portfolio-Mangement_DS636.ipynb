{
 "cells": [
  {
   "cell_type": "markdown",
   "metadata": {
    "button": false,
    "new_sheet": false,
    "run_control": {
     "read_only": false
    }
   },
   "source": [
    "# Midterm Project: Equity Portfolio Management"
   ]
  },
  {
   "cell_type": "markdown",
   "metadata": {},
   "source": [
    "## Project Members\n",
    "\n",
    "| Name                             | UCID   |\n",
    "|----------------------------------|--------|\n",
    "| Ashik Manikandan Chandrasekaran  | ac2528 |\n",
    "| Atul Bhargav Kurumalla Srinivasa | ak2832 |\n",
    "| Prajwal B Mani                   | pbm6   |"
   ]
  },
  {
   "cell_type": "markdown",
   "metadata": {},
   "source": [
    "### Data Preparation\n",
    "\n",
    "Download the historial daily data of the entire 2018 for the 10 stocks \n",
    "\n",
    "\n",
    "```python\n",
    "universe_of_Stocks = ['IBM', 'MSFT', 'GOOG', 'AAPL', 'AMZN', 'FB', 'NFLX', 'TSLA', 'ORCL', 'SAP']\n",
    "```\n",
    "\n",
    "For example, to download IBM data, use the following link to go to yahoo finance page. Find the \"Download Data\" link to download the csv file to you local disk.\n",
    "https://finance.yahoo.com/quote/IBM/history?period1=1514782800&period2=1546232400&interval=1d&filter=history&frequency=1d\n",
    "\n",
    "Replace \"IBM\" with other stock symbol in the above URL, you will be able to download data for other 9 stocks.\n",
    "\n",
    "You should have 10 csv files on your disk now. IBM.csv, MSFT.csv, etc. We call the 10 stocks \"universe_of_Stocks\" which is the entire stock market you can trade.\n",
    "\n",
    "\n",
    "\n",
    "### Retrieve the \"Close\" and \"Adj Close\" values for each stock\n",
    "\n",
    "You will create a dataframe where there are 20 columns for the 10 stocks, each row is the \"Close\" and \"Adj Close\" prices for the 10 stocks on each day, in the order of the business days in 2018. Assume all buy/sell on the \"Close\" prices and there is no transaction cost.\n",
    "\n",
    "### You start to manage 5 million dollars fund on Jan 02, 2018\n",
    "\n",
    "You have a strategy to manage the fund.\n",
    "\n",
    "1. On Jan 02 2018, you split the \\\\$5m into 5 \\\\$1m, and use them to buy 5 stocks from the 10 stocks. For example, IBM close price was \\\\$154.25. With \\\\$1m, you can buy max 6482 shares with cost \\\\$999848.5 with \\\\$151.5‬ cash left. You decided to spend \\\\$1m on each of ['IBM', 'MSFT', 'GOOG', 'AAPL', 'AMZN'] respectively and keep the rest cash into a zero-interest cash account. On Jan 02 2018, your mark to market value (Mark_to_Market) is \\\\$5m if combining all stocks value and cash. Your holdings of stocks and cach account is your portfolio.\n",
    "\n",
    "\\begin{equation*}\n",
    "\\ Mark_to_Market^t =  cash^t + \\sum_{k=1}^5 Shares_k^t \\times stock_price_closed_k^t \\\n",
    "\\end{equation*}\n",
    "\n",
    "\n",
    "2. Your trading strategy is \"5 days rebalancing of buying low\". Here is how it works. You keep your portfolio unchanged until 5 days later on Jan 09 2018. Now you want to re-check the market and adjust your portfolio. You will compute the \"Adj Close\" price changes from Jan 02 to Jan 09, and find the 5 stocks whose \"Adj Close\" prices dropped the most in terms of percentage. You sell all current holdings on Jan 09 \"Close\" prices to convert your portfolio to all cash. Then immediately split your cash, including your cash account, to 5 equal parts to buy the 5 stocks that dropped the most from Jan 02 to Jan 09 on 'Adj Close' prices. You always buy the max shares of stock on the \"Close\" price and keep the rest cash in cash account. Now the portfolio should be different from 5 days ago. This operation is called \"rebalancing\".\n",
    "\n",
    "    Keep in mind, the Mark_to_Market will change every day, even when your portfolio holdings don't change, because the stock prices change.\n",
    "\n",
    "\n",
    "3. Corporations generally issue stock dividends on some days. The total dividend you get on such a day is the stock dividend  times your shares if you have shares of this stock on the dividend day. If you buy shares on the dividend day, these bought shares are not qualified to get dividend. If you sell shares on the dividend day, the sold shares are qualified to get dividend. For example, on 2/8/2018, IBM issued \\$1.5 dividend per share. In your cash account, you will automatically get\n",
    "\n",
    "\\begin{equation*}\n",
    "\\$1.5 \\times \\left(your\\ IBM\\ shares\\ on\\ 2/8/2018\\right)\n",
    "\\end{equation*} \n",
    "\n",
    "\n",
    "\n",
    "4. 5 business days later on Jan 17 (Jan 15 was a holiday), you re-check the market and adjust your portfolio again. You will have a new portfolio on Jan 17.\n",
    "\n",
    "\n",
    "5. If you run this strategy every 5 days all the way to Dec 31 2018, you will have a daily Mark_to_Market. You expect the Mark_to_Market on Dec 31 2018 should be higher than \\$5m because you always buy the stocks that dropped the most, i.e., you always buy low.\n",
    "\n",
    "\n",
    "6. Another strategy is \"5 days rebalancing of buying high\". You always buy the 5 stocks whose \"Adj Close\" prices surge the most in terms of percentage because you believe the trend will continue. Run the new strategy and see how the Mark_to_Market will change.\n",
    "\n",
    "\n",
    "7. You will create a \"high tech index\" which is simply the daily average of the 10 stocks \"Close\" prices. Compare your Mark_to_Market series with the \"high tech index\" and plot their curves. To plot the two curves together, you may want to convert the series to daily percentage change with regard to Jan 02 2018.\n",
    "\n",
    "\n",
    "8. Download the USD/JPY 2018 historical data at https://www.myfxbook.com/en/forex-market/currencies/USDJPY-historical-data then use the \"Close\" column as the rate to convert your Mark_to_Market series from USD to JPY. Plot the two Mark_to_Market curves. You will need to convert to daily percentage change too.\n",
    "\n",
    "\n",
    "9. The above two strategies both rebalance every 5 days. Try to change the days interval and find the optimal days interval that maximizes the Mark_to_Market on 12/31/2018. \n",
    "\n",
    "\n"
   ]
  },
  {
   "cell_type": "markdown",
   "metadata": {},
   "source": [
    "#### Required Datasets\n",
    "- Load historial daily data of the 2018 year for the 10 stocks which was downloaded from the yahoo website.<br>  \n",
    "- USD/JPY 2018 historical data\n",
    "- All the csv files is under data folder."
   ]
  },
  {
   "cell_type": "code",
   "execution_count": 1,
   "metadata": {},
   "outputs": [],
   "source": [
    "options(warn=-1)"
   ]
  },
  {
   "cell_type": "code",
   "execution_count": 2,
   "metadata": {},
   "outputs": [],
   "source": [
    "ibm = read.csv(\"data/IBM.csv\")[,c(1,5,6)]\n",
    "msft = read.csv(\"data/MSFT.csv\")[,c(1,5,6)]\n",
    "goog = read.csv(\"data/GOOG.csv\")[,c(1,5,6)]\n",
    "amzn = read.csv(\"data/AMZN.csv\")[,c(1,5,6)]\n",
    "fb = read.csv(\"data/META.csv\")[,c(1,5,6)]\n",
    "nflx = read.csv(\"data/NFLX.csv\")[,c(1,5,6)]\n",
    "tsla = read.csv(\"data/TSLA.csv\")[,c(1,5,6)]\n",
    "orcl = read.csv(\"data/ORCL.csv\")[,c(1,5,6)]\n",
    "sap = read.csv(\"data/SAP.csv\")[,c(1,5,6)]\n",
    "aapl = read.csv(\"data/AAPL.csv\")[,c(1,5,6)]\n",
    "forex = read.csv(\"data/USDJPY.csv\",header=TRUE)"
   ]
  },
  {
   "cell_type": "code",
   "execution_count": 3,
   "metadata": {},
   "outputs": [
    {
     "data": {
      "text/html": [
       "<table class=\"dataframe\">\n",
       "<caption>A data.frame: 3 × 3</caption>\n",
       "<thead>\n",
       "\t<tr><th></th><th scope=col>Date</th><th scope=col>Close</th><th scope=col>Adj.Close</th></tr>\n",
       "\t<tr><th></th><th scope=col>&lt;chr&gt;</th><th scope=col>&lt;dbl&gt;</th><th scope=col>&lt;dbl&gt;</th></tr>\n",
       "</thead>\n",
       "<tbody>\n",
       "\t<tr><th scope=row>1</th><td>2018-01-02</td><td>1065.00</td><td>1065.00</td></tr>\n",
       "\t<tr><th scope=row>2</th><td>2018-01-03</td><td>1082.48</td><td>1082.48</td></tr>\n",
       "\t<tr><th scope=row>3</th><td>2018-01-04</td><td>1086.40</td><td>1086.40</td></tr>\n",
       "</tbody>\n",
       "</table>\n"
      ],
      "text/latex": [
       "A data.frame: 3 × 3\n",
       "\\begin{tabular}{r|lll}\n",
       "  & Date & Close & Adj.Close\\\\\n",
       "  & <chr> & <dbl> & <dbl>\\\\\n",
       "\\hline\n",
       "\t1 & 2018-01-02 & 1065.00 & 1065.00\\\\\n",
       "\t2 & 2018-01-03 & 1082.48 & 1082.48\\\\\n",
       "\t3 & 2018-01-04 & 1086.40 & 1086.40\\\\\n",
       "\\end{tabular}\n"
      ],
      "text/markdown": [
       "\n",
       "A data.frame: 3 × 3\n",
       "\n",
       "| <!--/--> | Date &lt;chr&gt; | Close &lt;dbl&gt; | Adj.Close &lt;dbl&gt; |\n",
       "|---|---|---|---|\n",
       "| 1 | 2018-01-02 | 1065.00 | 1065.00 |\n",
       "| 2 | 2018-01-03 | 1082.48 | 1082.48 |\n",
       "| 3 | 2018-01-04 | 1086.40 | 1086.40 |\n",
       "\n"
      ],
      "text/plain": [
       "  Date       Close   Adj.Close\n",
       "1 2018-01-02 1065.00 1065.00  \n",
       "2 2018-01-03 1082.48 1082.48  \n",
       "3 2018-01-04 1086.40 1086.40  "
      ]
     },
     "metadata": {},
     "output_type": "display_data"
    }
   ],
   "source": [
    "head(goog,3)"
   ]
  },
  {
   "cell_type": "code",
   "execution_count": 4,
   "metadata": {},
   "outputs": [
    {
     "data": {
      "text/html": [
       "<table class=\"dataframe\">\n",
       "<caption>A data.frame: 4 × 3</caption>\n",
       "<thead>\n",
       "\t<tr><th></th><th scope=col>Date</th><th scope=col>Close</th><th scope=col>Adj.Close</th></tr>\n",
       "\t<tr><th></th><th scope=col>&lt;chr&gt;</th><th scope=col>&lt;dbl&gt;</th><th scope=col>&lt;dbl&gt;</th></tr>\n",
       "</thead>\n",
       "<tbody>\n",
       "\t<tr><th scope=row>1</th><td>04-01-2018</td><td>154.5889</td><td>120.1651</td></tr>\n",
       "\t<tr><th scope=row>2</th><td>05-01-2018</td><td>155.3442</td><td>120.7522</td></tr>\n",
       "\t<tr><th scope=row>3</th><td>08-01-2018</td><td>156.2811</td><td>121.4804</td></tr>\n",
       "\t<tr><th scope=row>4</th><td>09-01-2018</td><td>156.6252</td><td>121.7480</td></tr>\n",
       "</tbody>\n",
       "</table>\n"
      ],
      "text/latex": [
       "A data.frame: 4 × 3\n",
       "\\begin{tabular}{r|lll}\n",
       "  & Date & Close & Adj.Close\\\\\n",
       "  & <chr> & <dbl> & <dbl>\\\\\n",
       "\\hline\n",
       "\t1 & 04-01-2018 & 154.5889 & 120.1651\\\\\n",
       "\t2 & 05-01-2018 & 155.3442 & 120.7522\\\\\n",
       "\t3 & 08-01-2018 & 156.2811 & 121.4804\\\\\n",
       "\t4 & 09-01-2018 & 156.6252 & 121.7480\\\\\n",
       "\\end{tabular}\n"
      ],
      "text/markdown": [
       "\n",
       "A data.frame: 4 × 3\n",
       "\n",
       "| <!--/--> | Date &lt;chr&gt; | Close &lt;dbl&gt; | Adj.Close &lt;dbl&gt; |\n",
       "|---|---|---|---|\n",
       "| 1 | 04-01-2018 | 154.5889 | 120.1651 |\n",
       "| 2 | 05-01-2018 | 155.3442 | 120.7522 |\n",
       "| 3 | 08-01-2018 | 156.2811 | 121.4804 |\n",
       "| 4 | 09-01-2018 | 156.6252 | 121.7480 |\n",
       "\n"
      ],
      "text/plain": [
       "  Date       Close    Adj.Close\n",
       "1 04-01-2018 154.5889 120.1651 \n",
       "2 05-01-2018 155.3442 120.7522 \n",
       "3 08-01-2018 156.2811 121.4804 \n",
       "4 09-01-2018 156.6252 121.7480 "
      ]
     },
     "metadata": {},
     "output_type": "display_data"
    }
   ],
   "source": [
    "head(ibm,4)"
   ]
  },
  {
   "cell_type": "markdown",
   "metadata": {},
   "source": [
    "#### After some data exploratory the ibm stock data had one day entry missing "
   ]
  },
  {
   "cell_type": "code",
   "execution_count": 5,
   "metadata": {},
   "outputs": [
    {
     "data": {
      "text/html": [
       "<table class=\"dataframe\">\n",
       "<caption>A data.frame: 6 × 7</caption>\n",
       "<thead>\n",
       "\t<tr><th></th><th scope=col>Date</th><th scope=col>Open</th><th scope=col>High</th><th scope=col>Low</th><th scope=col>Close</th><th scope=col>Change.Pips.</th><th scope=col>Change...</th></tr>\n",
       "\t<tr><th></th><th scope=col>&lt;chr&gt;</th><th scope=col>&lt;dbl&gt;</th><th scope=col>&lt;dbl&gt;</th><th scope=col>&lt;dbl&gt;</th><th scope=col>&lt;dbl&gt;</th><th scope=col>&lt;dbl&gt;</th><th scope=col>&lt;dbl&gt;</th></tr>\n",
       "</thead>\n",
       "<tbody>\n",
       "\t<tr><th scope=row>1</th><td>12/31/2018 00:00</td><td>110.231</td><td>110.476</td><td>109.560</td><td>109.602</td><td>-62.9</td><td>-0.57</td></tr>\n",
       "\t<tr><th scope=row>2</th><td>12/28/2018 00:00</td><td>110.966</td><td>111.009</td><td>110.144</td><td>110.297</td><td>-66.9</td><td>-0.61</td></tr>\n",
       "\t<tr><th scope=row>3</th><td>12/27/2018 00:00</td><td>111.337</td><td>111.337</td><td>110.452</td><td>110.983</td><td>-35.4</td><td>-0.32</td></tr>\n",
       "\t<tr><th scope=row>4</th><td>12/26/2018 00:00</td><td>110.283</td><td>111.408</td><td>110.138</td><td>111.361</td><td>107.8</td><td> 0.97</td></tr>\n",
       "\t<tr><th scope=row>5</th><td>12/24/2018 00:00</td><td>110.942</td><td>111.192</td><td>110.269</td><td>110.430</td><td>-51.2</td><td>-0.46</td></tr>\n",
       "\t<tr><th scope=row>6</th><td>12/21/2018 00:00</td><td>111.278</td><td>111.459</td><td>110.933</td><td>111.208</td><td> -7.0</td><td>-0.06</td></tr>\n",
       "</tbody>\n",
       "</table>\n"
      ],
      "text/latex": [
       "A data.frame: 6 × 7\n",
       "\\begin{tabular}{r|lllllll}\n",
       "  & Date & Open & High & Low & Close & Change.Pips. & Change...\\\\\n",
       "  & <chr> & <dbl> & <dbl> & <dbl> & <dbl> & <dbl> & <dbl>\\\\\n",
       "\\hline\n",
       "\t1 & 12/31/2018 00:00 & 110.231 & 110.476 & 109.560 & 109.602 & -62.9 & -0.57\\\\\n",
       "\t2 & 12/28/2018 00:00 & 110.966 & 111.009 & 110.144 & 110.297 & -66.9 & -0.61\\\\\n",
       "\t3 & 12/27/2018 00:00 & 111.337 & 111.337 & 110.452 & 110.983 & -35.4 & -0.32\\\\\n",
       "\t4 & 12/26/2018 00:00 & 110.283 & 111.408 & 110.138 & 111.361 & 107.8 &  0.97\\\\\n",
       "\t5 & 12/24/2018 00:00 & 110.942 & 111.192 & 110.269 & 110.430 & -51.2 & -0.46\\\\\n",
       "\t6 & 12/21/2018 00:00 & 111.278 & 111.459 & 110.933 & 111.208 &  -7.0 & -0.06\\\\\n",
       "\\end{tabular}\n"
      ],
      "text/markdown": [
       "\n",
       "A data.frame: 6 × 7\n",
       "\n",
       "| <!--/--> | Date &lt;chr&gt; | Open &lt;dbl&gt; | High &lt;dbl&gt; | Low &lt;dbl&gt; | Close &lt;dbl&gt; | Change.Pips. &lt;dbl&gt; | Change... &lt;dbl&gt; |\n",
       "|---|---|---|---|---|---|---|---|\n",
       "| 1 | 12/31/2018 00:00 | 110.231 | 110.476 | 109.560 | 109.602 | -62.9 | -0.57 |\n",
       "| 2 | 12/28/2018 00:00 | 110.966 | 111.009 | 110.144 | 110.297 | -66.9 | -0.61 |\n",
       "| 3 | 12/27/2018 00:00 | 111.337 | 111.337 | 110.452 | 110.983 | -35.4 | -0.32 |\n",
       "| 4 | 12/26/2018 00:00 | 110.283 | 111.408 | 110.138 | 111.361 | 107.8 |  0.97 |\n",
       "| 5 | 12/24/2018 00:00 | 110.942 | 111.192 | 110.269 | 110.430 | -51.2 | -0.46 |\n",
       "| 6 | 12/21/2018 00:00 | 111.278 | 111.459 | 110.933 | 111.208 |  -7.0 | -0.06 |\n",
       "\n"
      ],
      "text/plain": [
       "  Date             Open    High    Low     Close   Change.Pips. Change...\n",
       "1 12/31/2018 00:00 110.231 110.476 109.560 109.602 -62.9        -0.57    \n",
       "2 12/28/2018 00:00 110.966 111.009 110.144 110.297 -66.9        -0.61    \n",
       "3 12/27/2018 00:00 111.337 111.337 110.452 110.983 -35.4        -0.32    \n",
       "4 12/26/2018 00:00 110.283 111.408 110.138 111.361 107.8         0.97    \n",
       "5 12/24/2018 00:00 110.942 111.192 110.269 110.430 -51.2        -0.46    \n",
       "6 12/21/2018 00:00 111.278 111.459 110.933 111.208  -7.0        -0.06    "
      ]
     },
     "metadata": {},
     "output_type": "display_data"
    }
   ],
   "source": [
    "head(forex)"
   ]
  },
  {
   "cell_type": "markdown",
   "metadata": {},
   "source": [
    "#### Maintaining the stock required for the 5-day rebalancing and the universe_of_stocks stock as a list of data frames."
   ]
  },
  {
   "cell_type": "code",
   "execution_count": 6,
   "metadata": {
    "button": false,
    "new_sheet": false,
    "run_control": {
     "read_only": false
    },
    "scrolled": false
   },
   "outputs": [],
   "source": [
    "stocks_picked = list(ibm, msft, goog, aapl, amzn)\n",
    "names(stocks_picked) = c(\"IBM\", \"MSFT\", \"GOOG\", \"AAPL\", \"AMZN\")\n",
    "universe_of_stocks = list(ibm, msft, goog, aapl, amzn, fb, nflx, tsla, orcl, sap)\n",
    "names(universe_of_stocks) = c(\"IBM\", \"MSFT\", \"GOOG\",\"AAPL\", \"AMZN\", \"FB\", \"NFLX\", \"TSLA\", \"ORCL\", \"SAP\")"
   ]
  },
  {
   "cell_type": "markdown",
   "metadata": {},
   "source": [
    "#### Function compute_stock_price\n",
    "- This function counts the number of stocks whose close price is less than or equal to a given maximum price, based on a list of stock prices. It helps determine how many stocks can be purchased within a given budget."
   ]
  },
  {
   "cell_type": "code",
   "execution_count": 7,
   "metadata": {},
   "outputs": [],
   "source": [
    "compute_stock_price= function(share, day=1, amount=1000000)\n",
    "{\n",
    "    share = as.data.frame(share)\n",
    "    stock_price_closed = share[\"Close\"][day,]\n",
    "    no_of_stock_units = amount / stock_price_closed\n",
    "    return(floor(no_of_stock_units)*stock_price_closed)\n",
    "}"
   ]
  },
  {
   "cell_type": "markdown",
   "metadata": {},
   "source": [
    "#### Function compute_stock_units \n",
    "- Computes the number of stock units that can be purchased based on a given share price, investment amount, and the day."
   ]
  },
  {
   "cell_type": "code",
   "execution_count": 8,
   "metadata": {},
   "outputs": [],
   "source": [
    "compute_stock_units = function(share, day=1, amount=1000000){\n",
    "    share = as.data.frame(share)\n",
    "    stock_price_closed = share[\"Close\"][day,]\n",
    "    no_of_stock_units = amount / stock_price_closed\n",
    "    return(floor(no_of_stock_units))\n",
    "}"
   ]
  },
  {
   "cell_type": "markdown",
   "metadata": {},
   "source": [
    "#### Function compute_mtm\n",
    "- calculates the Market to Market value of the portfolio as the sum of the cash balance and the sum of the shareprices of each of the 5 stocks."
   ]
  },
  {
   "cell_type": "code",
   "execution_count": 9,
   "metadata": {},
   "outputs": [],
   "source": [
    " compute_mtm = function(portfolio, day=1){\n",
    "    return(portfolio[day,2] + portfolio[day, 3])\n",
    "}"
   ]
  },
  {
   "cell_type": "markdown",
   "metadata": {},
   "source": [
    "#### Function compute_cash_balance\n",
    "- Computes the cash balance remaining after purchasing stock units based on a given share price, investment amount, and the day\n"
   ]
  },
  {
   "cell_type": "code",
   "execution_count": 10,
   "metadata": {},
   "outputs": [],
   "source": [
    "compute_cash_balance = function(share, day=1, amount=1000000)\n",
    "{\n",
    "    share = as.data.frame(share)\n",
    "    stock_price_closed = share[\"Close\"][day,]\n",
    "    no_of_stock_units = amount / stock_price_closed\n",
    "    cash_remaining = (no_of_stock_units - floor(no_of_stock_units)) * stock_price_closed\n",
    "    return(cash_remaining)\n",
    "}"
   ]
  },
  {
   "cell_type": "markdown",
   "metadata": {},
   "source": [
    "#### Function compute_percent\n",
    "- Computes the percentage difference and average percentage difference between the adjusted closing prices of a given share.\n"
   ]
  },
  {
   "cell_type": "code",
   "execution_count": 11,
   "metadata": {},
   "outputs": [],
   "source": [
    "compute_percent = function(share)\n",
    "{\n",
    "    adj_close = share[[\"Adj.Close\"]]\n",
    "    difference = (adj_close/lag(adj_close) - 1) * 100\n",
    "    average_difference = c(rep(NA, length(adj_close)))\n",
    "#Note check this before submititng \n",
    "    average = mean(difference[(1:5)], na.rm=TRUE)\n",
    "    average_difference[6] = average\n",
    "    for(i in seq(11, length(adj_close), by=5)){\n",
    "        average = mean(difference[(i-5):(i-1)], na.rm=TRUE)\n",
    "        average_difference[i] = average\n",
    "    }    \n",
    "    stock = dplyr::mutate(share, \"percent_difference\"=difference, \"average_precent_difference\"=average_difference)\n",
    "    return(stock)\n",
    "}"
   ]
  },
  {
   "cell_type": "markdown",
   "metadata": {},
   "source": [
    "#### Function compute_dividend\n",
    "- Computes the dividend of a given stock based on its closing and adjusted closing prices.\n"
   ]
  },
  {
   "cell_type": "code",
   "execution_count": 12,
   "metadata": {
    "button": false,
    "new_sheet": false,
    "run_control": {
     "read_only": false
    },
    "scrolled": true
   },
   "outputs": [],
   "source": [
    "compute_dividend = function(stock)\n",
    "{\n",
    "    date = stock[[\"Date\"]]\n",
    "    date = date[2:length(date)]\n",
    "    close = stock[[\"Close\"]]\n",
    "    adj_close = stock[[\"Adj.Close\"]]\n",
    "    ratio_close_of_the_stock = close[1:(length(close)-1)] / close[2:length(close)]\n",
    "    ratio_adj =  adj_close[1:(length(adj_close)-1)] / adj_close[2:length(adj_close)]\n",
    "    dividend_of_the_stock = abs(round((ratio_close_of_the_stock - ratio_adj) * close[2:length(close)], 3))\n",
    "    temp_dataframe = data.frame(\"Date\"=date, \"Dividend\"=dividend_of_the_stock)\n",
    "    dividend_frame = filter(temp_dataframe, dividend_of_the_stock != 0)\n",
    "    stock = merge(stock,dividend_frame,all.x=TRUE)\n",
    "    return(stock)\n",
    "}"
   ]
  },
  {
   "cell_type": "markdown",
   "metadata": {},
   "source": [
    "#### Funciton compute_dividend_total\n",
    "- The function computes the total dividend earned by the investor based on the adjusted close prices of stocks and the number of units held by the investor."
   ]
  },
  {
   "cell_type": "code",
   "execution_count": 13,
   "metadata": {},
   "outputs": [],
   "source": [
    "compute_dividend_total = function(adjusted_close_ref, stock_unit_list, day=1)\n",
    "{\n",
    "    dividend_days = lapply(adjusted_close_ref, \"[\", day,)\n",
    "    total_dividend = 0\n",
    "    for(name in names(dividend_days))\n",
    "    {\n",
    "        df = as.data.frame(dividend_days[name])\n",
    "        dividend_amount = df[,6]\n",
    "        if(!(is.na(dividend_amount)))\n",
    "        {\n",
    "            unit_amount = stock_unit_list[[name]]\n",
    "            total_dividend = total_dividend + (unit_amount * dividend_amount)\n",
    "        }\n",
    "    }\n",
    "    return(total_dividend)\n",
    "}"
   ]
  },
  {
   "cell_type": "markdown",
   "metadata": {},
   "source": [
    "#### Function compute_portfolio\n",
    "- The compute_portfolio function computes the portfolio value for a given day.\n",
    "- It takes in several parameters, including a list of stocks, a data frame containing portfolio information, the day for which the portfolio is to be computed, and a rebalance frequency.\n",
    "- The function also takes in a list of the adjusted closing prices of the stocks and a list of the number of units of each stock in the portfolio.\n",
    "- Additionally, it takes a logical value indicating whether the stocks should be ordered in descending order based on their average adjusted closing price.\n",
    "- The function computes the dividend for the day, the total value of the portfolio based on current stock prices, and the mark-to-market value of the portfolio.\n",
    "- If rebalancing is not due, the function returns the updated portfolio data frame with the dividend and total value for the day.\n",
    "- If rebalancing is due, the function computes the new cash balance and stock value for the portfolio, orders the stocks based on their average adjusted closing price, and returns the updated portfolio data frame along with the list of the top 5 stocks to include in the portfolio.\n",
    "\n",
    "\n",
    "\n",
    "\n",
    "\n"
   ]
  },
  {
   "cell_type": "code",
   "execution_count": 14,
   "metadata": {
    "button": false,
    "new_sheet": false,
    "run_control": {
     "read_only": false
    }
   },
   "outputs": [],
   "source": [
    "compute_portfolio = function(stocks_selected, portfolio, day=2, rebalance_flag=1, adjusted_close_ref=NA, stock_unit_list=NA, descending=FALSE)\n",
    "{\n",
    "    wallet_amount_remaining = portfolio[day-1, 5]\n",
    "    portfolio[day,2] = portfolio[day-1, 2] + compute_dividend_total(adjusted_close_ref, stock_unit_list, day)\n",
    "    portfolio[day,3] = sum(unlist(lapply(stocks_selected, compute_stock_price, day, wallet_amount_remaining)))\n",
    "    portfolio[day, 5] = portfolio[day-1, 5]\n",
    "    portfolio[day, 4] = compute_mtm(portfolio, day)\n",
    "    \n",
    "    if(rebalance_flag %% 5 != 0)\n",
    "    {\n",
    "        return(list(portfolio, NA))\n",
    "    }\n",
    "    else\n",
    "    {    \n",
    "        portfolio[day, 5] = portfolio[day, 4] / 5\n",
    "        portfolio[day, 2] = sum(unlist(lapply(stocks_selected, compute_cash_balance, day, portfolio[day, 5])))\n",
    "        portfolio[day, 3] = sum(unlist(lapply(stocks_selected,compute_stock_price, day, portfolio[day, 5])))        \n",
    "        adjusted_reference_guide = lapply(adjusted_close_ref, \"[\", day,5)\n",
    "        ordered_frame = data.frame(\"Stock\"=names(adjusted_reference_guide), \"Average\"=unlist(adjusted_reference_guide))\n",
    "        if(!descending)\n",
    "        {\n",
    "            ordered_frame = dplyr::arrange(ordered_frame, Average)\n",
    "        }\n",
    "        else\n",
    "        {\n",
    "            ordered_frame = dplyr::arrange(ordered_frame, desc(Average))\n",
    "        }\n",
    "        return(list(portfolio, as.vector(ordered_frame[,1][1:5])))\n",
    "    }\n",
    "}"
   ]
  },
  {
   "cell_type": "markdown",
   "metadata": {},
   "source": [
    "## Portfolio Strategy"
   ]
  },
  {
   "cell_type": "markdown",
   "metadata": {},
   "source": [
    "### Strategy 1: \"5 days rebalancing of buying low\"\n",
    "- After every 5 days, we calculate the Adj close percentage of all 5 stocks and select the stocks that dropped the most in percentage. After selling all current stocks at that days Close price, we spend the amount in the previously selected stocks and repeat the process. This way our portfolio keeps changing every 5 days and this phenomenon is called \"rebalancing low\"."
   ]
  },
  {
   "cell_type": "code",
   "execution_count": 15,
   "metadata": {},
   "outputs": [],
   "source": [
    "universe_of_stocks_length = nrow(universe_of_stocks[[1]])\n",
    "dates = universe_of_stocks[['AAPL']]\n",
    "dates = dates[[\"Date\"]]\n",
    "stock_unit_list = lapply(universe_of_stocks, compute_stock_units)\n",
    "portfolio1 = data.frame(\"Date\"=dates, \"Cash_Balance\"=rep(NA, universe_of_stocks_length),\"Sum_Share_Prices\"=rep(NA, universe_of_stocks_length),\n",
    "                       \"Mark_to_Market\"=rep(NA, universe_of_stocks_length),\"Wallet_Per_Stock\"=rep(NA, universe_of_stocks_length))"
   ]
  },
  {
   "cell_type": "code",
   "execution_count": 42,
   "metadata": {},
   "outputs": [],
   "source": [
    "library(\"dplyr\")"
   ]
  },
  {
   "cell_type": "code",
   "execution_count": 17,
   "metadata": {},
   "outputs": [],
   "source": [
    "adjusted_close_ref = lapply(universe_of_stocks, compute_percent)\n",
    "adjusted_close_ref = lapply(adjusted_close_ref, compute_dividend)\n",
    "portfolio1[1,2] = sum(unlist(lapply(stocks_picked, compute_cash_balance)))\n",
    "portfolio1[1,3] = sum(unlist(lapply(stocks_picked, compute_stock_price)))\n",
    "portfolio1[1,4] = compute_mtm(portfolio1)\n",
    "portfolio1[1,5] = 1000000\n",
    "portfolio1[2,5] = 1000000\n",
    "rebalance_flag = 1"
   ]
  },
  {
   "cell_type": "code",
   "execution_count": 18,
   "metadata": {
    "button": false,
    "new_sheet": false,
    "run_control": {
     "read_only": false
    },
    "scrolled": false
   },
   "outputs": [],
   "source": [
    "for(i in (2:universe_of_stocks_length))\n",
    "{   \n",
    "    calc = compute_portfolio(stocks_picked, portfolio1, day=i, rebalance_flag, adjusted_close_ref, stock_unit_list)\n",
    "    portfolio1 = calc[[1]]\n",
    "    new_stocks = calc[[2]]\n",
    "    if(rebalance_flag %% 5 != 0)\n",
    "    {\n",
    "        rebalance_flag = rebalance_flag + 1\n",
    "    }\n",
    "    else\n",
    "    {\n",
    "        rebalance_flag = 1\n",
    "        stocks_picked = universe_of_stocks[new_stocks]\n",
    "        names(stocks_picked) = c(new_stocks)\n",
    "    }\n",
    "}"
   ]
  },
  {
   "cell_type": "code",
   "execution_count": 19,
   "metadata": {},
   "outputs": [
    {
     "data": {
      "text/html": [
       "<table class=\"dataframe\">\n",
       "<caption>A data.frame: 6 × 5</caption>\n",
       "<thead>\n",
       "\t<tr><th></th><th scope=col>Date</th><th scope=col>Cash_Balance</th><th scope=col>Sum_Share_Prices</th><th scope=col>Mark_to_Market</th><th scope=col>Wallet_Per_Stock</th></tr>\n",
       "\t<tr><th></th><th scope=col>&lt;chr&gt;</th><th scope=col>&lt;dbl&gt;</th><th scope=col>&lt;dbl&gt;</th><th scope=col>&lt;dbl&gt;</th><th scope=col>&lt;dbl&gt;</th></tr>\n",
       "</thead>\n",
       "<tbody>\n",
       "\t<tr><th scope=row>1</th><td>2018-01-02</td><td>1279.950</td><td>4998720</td><td>5000000</td><td>1000000</td></tr>\n",
       "\t<tr><th scope=row>2</th><td>2018-01-03</td><td>1279.950</td><td>4998466</td><td>4999746</td><td>1000000</td></tr>\n",
       "\t<tr><th scope=row>3</th><td>2018-01-04</td><td>1279.950</td><td>4998415</td><td>4999695</td><td>1000000</td></tr>\n",
       "\t<tr><th scope=row>4</th><td>2018-01-05</td><td>1279.950</td><td>4998889</td><td>5000169</td><td>1000000</td></tr>\n",
       "\t<tr><th scope=row>5</th><td>2018-01-08</td><td>1279.950</td><td>4999480</td><td>5000760</td><td>1000000</td></tr>\n",
       "\t<tr><th scope=row>6</th><td>2018-01-09</td><td>1884.881</td><td>5001964</td><td>5003848</td><td>1000770</td></tr>\n",
       "</tbody>\n",
       "</table>\n"
      ],
      "text/latex": [
       "A data.frame: 6 × 5\n",
       "\\begin{tabular}{r|lllll}\n",
       "  & Date & Cash\\_Balance & Sum\\_Share\\_Prices & Mark\\_to\\_Market & Wallet\\_Per\\_Stock\\\\\n",
       "  & <chr> & <dbl> & <dbl> & <dbl> & <dbl>\\\\\n",
       "\\hline\n",
       "\t1 & 2018-01-02 & 1279.950 & 4998720 & 5000000 & 1000000\\\\\n",
       "\t2 & 2018-01-03 & 1279.950 & 4998466 & 4999746 & 1000000\\\\\n",
       "\t3 & 2018-01-04 & 1279.950 & 4998415 & 4999695 & 1000000\\\\\n",
       "\t4 & 2018-01-05 & 1279.950 & 4998889 & 5000169 & 1000000\\\\\n",
       "\t5 & 2018-01-08 & 1279.950 & 4999480 & 5000760 & 1000000\\\\\n",
       "\t6 & 2018-01-09 & 1884.881 & 5001964 & 5003848 & 1000770\\\\\n",
       "\\end{tabular}\n"
      ],
      "text/markdown": [
       "\n",
       "A data.frame: 6 × 5\n",
       "\n",
       "| <!--/--> | Date &lt;chr&gt; | Cash_Balance &lt;dbl&gt; | Sum_Share_Prices &lt;dbl&gt; | Mark_to_Market &lt;dbl&gt; | Wallet_Per_Stock &lt;dbl&gt; |\n",
       "|---|---|---|---|---|---|\n",
       "| 1 | 2018-01-02 | 1279.950 | 4998720 | 5000000 | 1000000 |\n",
       "| 2 | 2018-01-03 | 1279.950 | 4998466 | 4999746 | 1000000 |\n",
       "| 3 | 2018-01-04 | 1279.950 | 4998415 | 4999695 | 1000000 |\n",
       "| 4 | 2018-01-05 | 1279.950 | 4998889 | 5000169 | 1000000 |\n",
       "| 5 | 2018-01-08 | 1279.950 | 4999480 | 5000760 | 1000000 |\n",
       "| 6 | 2018-01-09 | 1884.881 | 5001964 | 5003848 | 1000770 |\n",
       "\n"
      ],
      "text/plain": [
       "  Date       Cash_Balance Sum_Share_Prices Mark_to_Market Wallet_Per_Stock\n",
       "1 2018-01-02 1279.950     4998720          5000000        1000000         \n",
       "2 2018-01-03 1279.950     4998466          4999746        1000000         \n",
       "3 2018-01-04 1279.950     4998415          4999695        1000000         \n",
       "4 2018-01-05 1279.950     4998889          5000169        1000000         \n",
       "5 2018-01-08 1279.950     4999480          5000760        1000000         \n",
       "6 2018-01-09 1884.881     5001964          5003848        1000770         "
      ]
     },
     "metadata": {},
     "output_type": "display_data"
    }
   ],
   "source": [
    "head(portfolio1)"
   ]
  },
  {
   "cell_type": "markdown",
   "metadata": {
    "button": false,
    "new_sheet": false,
    "run_control": {
     "read_only": false
    }
   },
   "source": [
    "### Strategy 2 : \"5 days of rebalancing high\"\n",
    "- After every 5 days, we calculate the Adj close percentage of all 5 stocks and select the stocks that surge the most in percentage. We assume that the stocks keep surging in price going forward. After selling all current stocks at that days Close price, we spend the amount in the previously selected stocks and repeat the process. This way our portfolio keeps changing every 5 days and this phenomenon is called \"rebalancing high\"."
   ]
  },
  {
   "cell_type": "code",
   "execution_count": 20,
   "metadata": {},
   "outputs": [],
   "source": [
    "universe_of_stocks_length = nrow(universe_of_stocks[['AAPL']])\n",
    "dates = universe_of_stocks[[\"AAPL\"]]\n",
    "dates = dates[[\"Date\"]]\n",
    "stock_unit_list = lapply(universe_of_stocks, compute_stock_units)\n",
    "portfolio2 = data.frame(\"Date\"=dates, \"Cash_Balance\"=rep(NA, universe_of_stocks_length),\"Sum_Share_Prices\"=rep(NA, universe_of_stocks_length),\n",
    "                       \"Mark_to_Market\"=rep(NA, universe_of_stocks_length),\"Wallet_Per_Stock\"=rep(NA, universe_of_stocks_length))"
   ]
  },
  {
   "cell_type": "code",
   "execution_count": 21,
   "metadata": {},
   "outputs": [],
   "source": [
    "adjusted_close_ref = lapply(universe_of_stocks, compute_percent)\n",
    "adjusted_close_ref = lapply(adjusted_close_ref, compute_dividend)\n",
    "portfolio2[1,2] = sum(unlist(lapply(stocks_picked, compute_cash_balance)))\n",
    "portfolio2[1,3] = sum(unlist(lapply(stocks_picked, compute_stock_price)))\n",
    "portfolio2[1,4] = compute_mtm(portfolio1)\n",
    "portfolio2[1,5] = 1000000\n",
    "portfolio2[2,5] = 1000000\n",
    "rebalance_flag = 1"
   ]
  },
  {
   "cell_type": "code",
   "execution_count": 22,
   "metadata": {
    "button": false,
    "new_sheet": false,
    "run_control": {
     "read_only": false
    }
   },
   "outputs": [],
   "source": [
    "for(i in (2:universe_of_stocks_length))\n",
    "{   \n",
    "    calc = compute_portfolio(stocks_picked, portfolio2, day=i, rebalance_flag, adjusted_close_ref, stock_unit_list,TRUE)\n",
    "    portfolio2 = calc[[1]]\n",
    "    new_stocks = calc[[2]]\n",
    "    if(rebalance_flag %% 5 != 0)\n",
    "    {\n",
    "        rebalance_flag = rebalance_flag + 1\n",
    "    }\n",
    "    else\n",
    "    {\n",
    "        rebalance_flag = 1\n",
    "        stocks_picked = universe_of_stocks[new_stocks]\n",
    "        names(stocks_picked) = c(new_stocks)\n",
    "    }\n",
    "}"
   ]
  },
  {
   "cell_type": "code",
   "execution_count": 23,
   "metadata": {},
   "outputs": [
    {
     "data": {
      "text/html": [
       "<table class=\"dataframe\">\n",
       "<caption>A data.frame: 6 × 5</caption>\n",
       "<thead>\n",
       "\t<tr><th></th><th scope=col>Date</th><th scope=col>Cash_Balance</th><th scope=col>Sum_Share_Prices</th><th scope=col>Mark_to_Market</th><th scope=col>Wallet_Per_Stock</th></tr>\n",
       "\t<tr><th></th><th scope=col>&lt;chr&gt;</th><th scope=col>&lt;dbl&gt;</th><th scope=col>&lt;dbl&gt;</th><th scope=col>&lt;dbl&gt;</th><th scope=col>&lt;dbl&gt;</th></tr>\n",
       "</thead>\n",
       "<tbody>\n",
       "\t<tr><th scope=row>1</th><td>2018-01-02</td><td> 154.4699</td><td>4999846</td><td>5000000</td><td>1000000</td></tr>\n",
       "\t<tr><th scope=row>2</th><td>2018-01-03</td><td> 154.4699</td><td>4999346</td><td>4999501</td><td>1000000</td></tr>\n",
       "\t<tr><th scope=row>3</th><td>2018-01-04</td><td> 154.4699</td><td>4999019</td><td>4999174</td><td>1000000</td></tr>\n",
       "\t<tr><th scope=row>4</th><td>2018-01-05</td><td> 154.4699</td><td>4999055</td><td>4999209</td><td>1000000</td></tr>\n",
       "\t<tr><th scope=row>5</th><td>2018-01-08</td><td> 154.4699</td><td>4999822</td><td>4999976</td><td>1000000</td></tr>\n",
       "\t<tr><th scope=row>6</th><td>2018-01-09</td><td>1296.7595</td><td>5002297</td><td>5003594</td><td>1000719</td></tr>\n",
       "</tbody>\n",
       "</table>\n"
      ],
      "text/latex": [
       "A data.frame: 6 × 5\n",
       "\\begin{tabular}{r|lllll}\n",
       "  & Date & Cash\\_Balance & Sum\\_Share\\_Prices & Mark\\_to\\_Market & Wallet\\_Per\\_Stock\\\\\n",
       "  & <chr> & <dbl> & <dbl> & <dbl> & <dbl>\\\\\n",
       "\\hline\n",
       "\t1 & 2018-01-02 &  154.4699 & 4999846 & 5000000 & 1000000\\\\\n",
       "\t2 & 2018-01-03 &  154.4699 & 4999346 & 4999501 & 1000000\\\\\n",
       "\t3 & 2018-01-04 &  154.4699 & 4999019 & 4999174 & 1000000\\\\\n",
       "\t4 & 2018-01-05 &  154.4699 & 4999055 & 4999209 & 1000000\\\\\n",
       "\t5 & 2018-01-08 &  154.4699 & 4999822 & 4999976 & 1000000\\\\\n",
       "\t6 & 2018-01-09 & 1296.7595 & 5002297 & 5003594 & 1000719\\\\\n",
       "\\end{tabular}\n"
      ],
      "text/markdown": [
       "\n",
       "A data.frame: 6 × 5\n",
       "\n",
       "| <!--/--> | Date &lt;chr&gt; | Cash_Balance &lt;dbl&gt; | Sum_Share_Prices &lt;dbl&gt; | Mark_to_Market &lt;dbl&gt; | Wallet_Per_Stock &lt;dbl&gt; |\n",
       "|---|---|---|---|---|---|\n",
       "| 1 | 2018-01-02 |  154.4699 | 4999846 | 5000000 | 1000000 |\n",
       "| 2 | 2018-01-03 |  154.4699 | 4999346 | 4999501 | 1000000 |\n",
       "| 3 | 2018-01-04 |  154.4699 | 4999019 | 4999174 | 1000000 |\n",
       "| 4 | 2018-01-05 |  154.4699 | 4999055 | 4999209 | 1000000 |\n",
       "| 5 | 2018-01-08 |  154.4699 | 4999822 | 4999976 | 1000000 |\n",
       "| 6 | 2018-01-09 | 1296.7595 | 5002297 | 5003594 | 1000719 |\n",
       "\n"
      ],
      "text/plain": [
       "  Date       Cash_Balance Sum_Share_Prices Mark_to_Market Wallet_Per_Stock\n",
       "1 2018-01-02  154.4699    4999846          5000000        1000000         \n",
       "2 2018-01-03  154.4699    4999346          4999501        1000000         \n",
       "3 2018-01-04  154.4699    4999019          4999174        1000000         \n",
       "4 2018-01-05  154.4699    4999055          4999209        1000000         \n",
       "5 2018-01-08  154.4699    4999822          4999976        1000000         \n",
       "6 2018-01-09 1296.7595    5002297          5003594        1000719         "
      ]
     },
     "metadata": {},
     "output_type": "display_data"
    }
   ],
   "source": [
    "head(portfolio2)"
   ]
  },
  {
   "cell_type": "markdown",
   "metadata": {},
   "source": [
    "### High Tech Index(HTI)\n",
    "- High Tech Index or HTI is the daily average of the Close prices of all the 10 stocks.\n",
    "- We store this data in the data frame *tech_index* "
   ]
  },
  {
   "cell_type": "code",
   "execution_count": 24,
   "metadata": {
    "button": false,
    "new_sheet": false,
    "run_control": {
     "read_only": false
    }
   },
   "outputs": [
    {
     "data": {
      "text/html": [
       "<table class=\"dataframe\">\n",
       "<caption>A data.frame: 6 × 12</caption>\n",
       "<thead>\n",
       "\t<tr><th></th><th scope=col>IBM</th><th scope=col>MSFT</th><th scope=col>GOOG</th><th scope=col>AAPL</th><th scope=col>AMZN</th><th scope=col>FB</th><th scope=col>NFLX</th><th scope=col>TSLA</th><th scope=col>ORCL</th><th scope=col>SAP</th><th scope=col>HTI</th><th scope=col>HTI_PERCENT_CHANGE</th></tr>\n",
       "\t<tr><th></th><th scope=col>&lt;dbl&gt;</th><th scope=col>&lt;dbl&gt;</th><th scope=col>&lt;dbl&gt;</th><th scope=col>&lt;dbl&gt;</th><th scope=col>&lt;dbl&gt;</th><th scope=col>&lt;dbl&gt;</th><th scope=col>&lt;dbl&gt;</th><th scope=col>&lt;dbl&gt;</th><th scope=col>&lt;dbl&gt;</th><th scope=col>&lt;dbl&gt;</th><th scope=col>&lt;dbl&gt;</th><th scope=col>&lt;dbl&gt;</th></tr>\n",
       "</thead>\n",
       "<tbody>\n",
       "\t<tr><th scope=row>1</th><td>154.5889</td><td>85.95</td><td>1065.00</td><td>43.0650</td><td>1189.01</td><td>181.42</td><td>201.07</td><td>64.106</td><td>46.63</td><td>112.39</td><td>314.3230</td><td>0.000</td></tr>\n",
       "\t<tr><th scope=row>2</th><td>155.3442</td><td>86.35</td><td>1082.48</td><td>43.0575</td><td>1204.20</td><td>184.67</td><td>205.05</td><td>63.450</td><td>47.71</td><td>113.31</td><td>318.5622</td><td>1.349</td></tr>\n",
       "\t<tr><th scope=row>3</th><td>156.2811</td><td>87.11</td><td>1086.40</td><td>43.2575</td><td>1209.59</td><td>184.33</td><td>205.63</td><td>62.924</td><td>48.18</td><td>115.05</td><td>319.8753</td><td>1.766</td></tr>\n",
       "\t<tr><th scope=row>4</th><td>156.6252</td><td>88.19</td><td>1102.23</td><td>43.7500</td><td>1229.14</td><td>186.85</td><td>209.99</td><td>63.316</td><td>48.47</td><td>116.33</td><td>324.4891</td><td>3.234</td></tr>\n",
       "\t<tr><th scope=row>5</th><td>156.9599</td><td>88.28</td><td>1106.94</td><td>43.5875</td><td>1246.87</td><td>188.28</td><td>212.05</td><td>67.282</td><td>48.98</td><td>114.80</td><td>327.4029</td><td>4.161</td></tr>\n",
       "\t<tr><th scope=row>6</th><td>156.9790</td><td>88.22</td><td>1106.26</td><td>43.5825</td><td>1252.70</td><td>187.87</td><td>209.31</td><td>66.738</td><td>49.06</td><td>114.16</td><td>327.4879</td><td>4.188</td></tr>\n",
       "</tbody>\n",
       "</table>\n"
      ],
      "text/latex": [
       "A data.frame: 6 × 12\n",
       "\\begin{tabular}{r|llllllllllll}\n",
       "  & IBM & MSFT & GOOG & AAPL & AMZN & FB & NFLX & TSLA & ORCL & SAP & HTI & HTI\\_PERCENT\\_CHANGE\\\\\n",
       "  & <dbl> & <dbl> & <dbl> & <dbl> & <dbl> & <dbl> & <dbl> & <dbl> & <dbl> & <dbl> & <dbl> & <dbl>\\\\\n",
       "\\hline\n",
       "\t1 & 154.5889 & 85.95 & 1065.00 & 43.0650 & 1189.01 & 181.42 & 201.07 & 64.106 & 46.63 & 112.39 & 314.3230 & 0.000\\\\\n",
       "\t2 & 155.3442 & 86.35 & 1082.48 & 43.0575 & 1204.20 & 184.67 & 205.05 & 63.450 & 47.71 & 113.31 & 318.5622 & 1.349\\\\\n",
       "\t3 & 156.2811 & 87.11 & 1086.40 & 43.2575 & 1209.59 & 184.33 & 205.63 & 62.924 & 48.18 & 115.05 & 319.8753 & 1.766\\\\\n",
       "\t4 & 156.6252 & 88.19 & 1102.23 & 43.7500 & 1229.14 & 186.85 & 209.99 & 63.316 & 48.47 & 116.33 & 324.4891 & 3.234\\\\\n",
       "\t5 & 156.9599 & 88.28 & 1106.94 & 43.5875 & 1246.87 & 188.28 & 212.05 & 67.282 & 48.98 & 114.80 & 327.4029 & 4.161\\\\\n",
       "\t6 & 156.9790 & 88.22 & 1106.26 & 43.5825 & 1252.70 & 187.87 & 209.31 & 66.738 & 49.06 & 114.16 & 327.4879 & 4.188\\\\\n",
       "\\end{tabular}\n"
      ],
      "text/markdown": [
       "\n",
       "A data.frame: 6 × 12\n",
       "\n",
       "| <!--/--> | IBM &lt;dbl&gt; | MSFT &lt;dbl&gt; | GOOG &lt;dbl&gt; | AAPL &lt;dbl&gt; | AMZN &lt;dbl&gt; | FB &lt;dbl&gt; | NFLX &lt;dbl&gt; | TSLA &lt;dbl&gt; | ORCL &lt;dbl&gt; | SAP &lt;dbl&gt; | HTI &lt;dbl&gt; | HTI_PERCENT_CHANGE &lt;dbl&gt; |\n",
       "|---|---|---|---|---|---|---|---|---|---|---|---|---|\n",
       "| 1 | 154.5889 | 85.95 | 1065.00 | 43.0650 | 1189.01 | 181.42 | 201.07 | 64.106 | 46.63 | 112.39 | 314.3230 | 0.000 |\n",
       "| 2 | 155.3442 | 86.35 | 1082.48 | 43.0575 | 1204.20 | 184.67 | 205.05 | 63.450 | 47.71 | 113.31 | 318.5622 | 1.349 |\n",
       "| 3 | 156.2811 | 87.11 | 1086.40 | 43.2575 | 1209.59 | 184.33 | 205.63 | 62.924 | 48.18 | 115.05 | 319.8753 | 1.766 |\n",
       "| 4 | 156.6252 | 88.19 | 1102.23 | 43.7500 | 1229.14 | 186.85 | 209.99 | 63.316 | 48.47 | 116.33 | 324.4891 | 3.234 |\n",
       "| 5 | 156.9599 | 88.28 | 1106.94 | 43.5875 | 1246.87 | 188.28 | 212.05 | 67.282 | 48.98 | 114.80 | 327.4029 | 4.161 |\n",
       "| 6 | 156.9790 | 88.22 | 1106.26 | 43.5825 | 1252.70 | 187.87 | 209.31 | 66.738 | 49.06 | 114.16 | 327.4879 | 4.188 |\n",
       "\n"
      ],
      "text/plain": [
       "  IBM      MSFT  GOOG    AAPL    AMZN    FB     NFLX   TSLA   ORCL  SAP   \n",
       "1 154.5889 85.95 1065.00 43.0650 1189.01 181.42 201.07 64.106 46.63 112.39\n",
       "2 155.3442 86.35 1082.48 43.0575 1204.20 184.67 205.05 63.450 47.71 113.31\n",
       "3 156.2811 87.11 1086.40 43.2575 1209.59 184.33 205.63 62.924 48.18 115.05\n",
       "4 156.6252 88.19 1102.23 43.7500 1229.14 186.85 209.99 63.316 48.47 116.33\n",
       "5 156.9599 88.28 1106.94 43.5875 1246.87 188.28 212.05 67.282 48.98 114.80\n",
       "6 156.9790 88.22 1106.26 43.5825 1252.70 187.87 209.31 66.738 49.06 114.16\n",
       "  HTI      HTI_PERCENT_CHANGE\n",
       "1 314.3230 0.000             \n",
       "2 318.5622 1.349             \n",
       "3 319.8753 1.766             \n",
       "4 324.4891 3.234             \n",
       "5 327.4029 4.161             \n",
       "6 327.4879 4.188             "
      ]
     },
     "metadata": {},
     "output_type": "display_data"
    }
   ],
   "source": [
    "close = as.data.frame(lapply(universe_of_stocks, '[[', \"Close\"))\n",
    "tech_index = mutate(close, HTI = apply(close, 1, mean))\n",
    "tech_index = mutate(tech_index, HTI_PERCENT_CHANGE = round( ( (HTI - HTI[[1]]) / HTI[[1]] ) * 100, 3) )\n",
    "head(tech_index)"
   ]
  },
  {
   "cell_type": "markdown",
   "metadata": {
    "button": false,
    "new_sheet": false,
    "run_control": {
     "read_only": false
    }
   },
   "source": [
    "### Plotting the two portfolio strategies along with HTI\n",
    "- converting the Mark_to_Market strategies to a percentage profile for graphical comparison with the High Tech Index."
   ]
  },
  {
   "cell_type": "code",
   "execution_count": 25,
   "metadata": {
    "button": false,
    "new_sheet": false,
    "run_control": {
     "read_only": false
    },
    "scrolled": false
   },
   "outputs": [],
   "source": [
    "Mark_to_Market1 = as.data.frame(portfolio1[\"Mark_to_Market\"])\n",
    "Mark_to_Market1 = round(((Mark_to_Market1 - Mark_to_Market1[1,]) / Mark_to_Market1[1,]) * 100, 3)\n",
    "Mark_to_Market1 = rename(Mark_to_Market1, Mark_to_Market_PERCENT_CHANGE1 = Mark_to_Market)"
   ]
  },
  {
   "cell_type": "code",
   "execution_count": 26,
   "metadata": {},
   "outputs": [],
   "source": [
    "Mark_to_Market2 = as.data.frame(portfolio2[\"Mark_to_Market\"])\n",
    "Mark_to_Market2 = round(((Mark_to_Market2 - Mark_to_Market2[1,]) / Mark_to_Market2[1,]) * 100, 3)\n",
    "Mark_to_Market2 = rename(Mark_to_Market2, Mark_to_Market_PERCENT_CHANGE2 = Mark_to_Market)"
   ]
  },
  {
   "cell_type": "markdown",
   "metadata": {
    "button": false,
    "new_sheet": false,
    "run_control": {
     "read_only": false
    }
   },
   "source": [
    "### Graphical Comparison of the HTI with the two Mark_to_Market strategies"
   ]
  },
  {
   "cell_type": "code",
   "execution_count": 43,
   "metadata": {},
   "outputs": [],
   "source": [
    "library('reshape2')\n",
    "library('ggplot2')\n",
    "library(gridExtra)\n",
    "library(grid)\n",
    "library(plotly)\n",
    "library(gtable)"
   ]
  },
  {
   "cell_type": "code",
   "execution_count": 28,
   "metadata": {
    "button": false,
    "new_sheet": false,
    "run_control": {
     "read_only": false
    }
   },
   "outputs": [],
   "source": [
    "preparedHTI = data.frame(Date = as.Date(portfolio1$Date), HTI_Value = tech_index$HTI_PERCENT_CHANGE,Mark_to_Market1, Mark_to_Market2)\n",
    "plot3Frame = data.frame(Date = as.Date(portfolio1$Date), Mark_to_Market1 = Mark_to_Market1$Mark_to_Market_PERCENT_CHANGE1)\n",
    "plot4Frame = data.frame(Date = as.Date(portfolio2$Date), Mark_to_Market2 = Mark_to_Market2$Mark_to_Market_PERCENT_CHANGE2)"
   ]
  },
  {
   "cell_type": "code",
   "execution_count": 29,
   "metadata": {},
   "outputs": [],
   "source": [
    "preparedHTInew <- reshape2::melt(preparedHTI, id.vars=\"Date\", na.rm = T)"
   ]
  },
  {
   "cell_type": "code",
   "execution_count": 30,
   "metadata": {},
   "outputs": [],
   "source": [
    "plot1 = ggplot(data.frame(preparedHTInew),aes(x=Date, y=value, group=variable, colour = variable)) + geom_line(linewidth=1) +\n",
    "stat_smooth(formula = y~x,aes(x = Date, y =value), method = \"lm\") + ggtitle(\"HTI Time Series\") + \n",
    "scale_color_manual(values = c(\"blue\", \"orange\", \"red\"))"
   ]
  },
  {
   "cell_type": "code",
   "execution_count": 31,
   "metadata": {},
   "outputs": [
    {
     "data": {
      "image/png": "[encoded data removed]",
      "text/plain": [
       "plot without title"
      ]
     },
     "metadata": {
      "image/png": {
       "height": 420,
       "width": 420
      }
     },
     "output_type": "display_data"
    }
   ],
   "source": [
    "plot1"
   ]
  },
  {
   "cell_type": "code",
   "execution_count": 32,
   "metadata": {},
   "outputs": [],
   "source": [
    "plot3 = ggplot(plot3Frame, aes(x = Date, y = Mark_to_Market1)) + geom_line(linewidth=1) + ggtitle(\"5 days rebalancing of buying low\")"
   ]
  },
  {
   "cell_type": "code",
   "execution_count": 33,
   "metadata": {},
   "outputs": [
    {
     "data": {
      "image/png": "[encoded data removed]",
      "text/plain": [
       "plot without title"
      ]
     },
     "metadata": {
      "image/png": {
       "height": 420,
       "width": 420
      }
     },
     "output_type": "display_data"
    }
   ],
   "source": [
    "plot3"
   ]
  },
  {
   "cell_type": "code",
   "execution_count": 34,
   "metadata": {},
   "outputs": [],
   "source": [
    "plot4 = ggplot(plot4Frame, aes(x = Date, y = Mark_to_Market2)) + geom_line(linewidth=1) + ggtitle(\"5 days rebalancing of buying high\")"
   ]
  },
  {
   "cell_type": "code",
   "execution_count": 35,
   "metadata": {},
   "outputs": [
    {
     "data": {
      "image/png": "[encoded data removed]",
      "text/plain": [
       "plot without title"
      ]
     },
     "metadata": {
      "image/png": {
       "height": 420,
       "width": 420
      }
     },
     "output_type": "display_data"
    }
   ],
   "source": [
    "plot4"
   ]
  },
  {
   "cell_type": "markdown",
   "metadata": {},
   "source": [
    "### Converting Mark_to_Market from USD to JPY\n",
    "- Using the \"Close\" column in the USD/JPY dataset we can convert the Mark_to_Market profile from USD to JPY.\n",
    "- Plotting the currency difference."
   ]
  },
  {
   "cell_type": "code",
   "execution_count": 36,
   "metadata": {
    "button": false,
    "new_sheet": false,
    "run_control": {
     "read_only": false
    }
   },
   "outputs": [],
   "source": [
    "forex$Date <- as.Date(as.character(forex$Date), format = \"%m/%d/%y\")\n",
    "forex <- select(forex,Date,Close)\n",
    "Mark_to_Market_low <- portfolio1 %>% mutate(pct_Mark_to_Market = round(((Mark_to_Market - Mark_to_Market[1])*100/(Mark_to_Market)),5))\n",
    "Mark_to_Market_low$Date <-as.character(Mark_to_Market_low$Date)\n",
    "Mark_to_Market_low$Date <- as.Date(Mark_to_Market_low$Date, format = \"%Y-%m-%d\")\n",
    "y1<- select(Mark_to_Market_low,Date,Mark_to_Market,pct_Mark_to_Market)\n",
    "currency_df <- right_join(forex, y1, by=\"Date\")\n",
    "t<- currency_df %>% mutate(\"Mark_to_Market_JPY\"= Close*Mark_to_Market, \"pct_Mark_to_Market_JPY\"= round(((Mark_to_Market_JPY - Mark_to_Market_JPY[1])*100/(Mark_to_Market_JPY[1])),5))%>% select(Date,pct_Mark_to_Market,pct_Mark_to_Market_JPY)\n",
    "CURRENCY_DF <- reshape2::melt(t, id.vars=\"Date\", na.rm = T)"
   ]
  },
  {
   "cell_type": "code",
   "execution_count": 37,
   "metadata": {},
   "outputs": [
    {
     "data": {
      "image/png": "[encoded data removed]",
      "text/plain": [
       "plot without title"
      ]
     },
     "metadata": {
      "image/png": {
       "height": 420,
       "width": 420
      }
     },
     "output_type": "display_data"
    }
   ],
   "source": [
    "plot2 = ggplot(data.frame(CURRENCY_DF),aes(x=Date, y= value, group=variable, color=variable)) + \n",
    "geom_line(linewidth=1) + ggtitle(\"Mark_to_Market Series in USD/JPY\") + theme(plot.title = element_text(hjust = 0.5)) +\n",
    "labs(x = \"Time\", y = \"Mark_to_Market\", color = \"Legend \\n\") + scale_color_manual(labels = c(\"Currency_Df\"), \n",
    "values = c(\"blue\"))\n",
    "\n",
    "plot2"
   ]
  },
  {
   "cell_type": "markdown",
   "metadata": {},
   "source": [
    "### Final Obsevations\n",
    "- We can observe that in both strategies our portfolio saw an increase in Mark to Market(Mark_to_Market) value over several rebalancing cycles.\n",
    "- Portfolio 2: \"Rebalancing of buying high\" achieved the largest Mark_to_Market value over the same number of cycles. Thus, hinting that our assumption in Strategey 2 was correct and stocks saw an almost continuous surge in Adj Close price in 2018. "
   ]
  },
  {
   "cell_type": "code",
   "execution_count": 38,
   "metadata": {},
   "outputs": [],
   "source": [
    "grob_portfolio1 = tableGrob(portfolio1[c(1, 50, 100, 150, 200, 251),])\n",
    "height1 = grobHeight(grob_portfolio1)\n",
    "width1 = grobWidth(grob_portfolio1)\n",
    "title1 = textGrob(\"Portfolio1\", y=unit(0.5,\"npc\") + height1, vjust=0, gp=gpar(fontsize=15))"
   ]
  },
  {
   "cell_type": "code",
   "execution_count": 39,
   "metadata": {},
   "outputs": [],
   "source": [
    "grob_portfolio2 = tableGrob(portfolio2[c(1, 50, 100, 150, 200, 251),])\n",
    "height2 = grobHeight(grob_portfolio2)\n",
    "width2 = grobWidth(grob_portfolio2)\n",
    "title2 = textGrob(\"Portfolio2\", y=unit(0.5,\"npc\") + height2, vjust=0, gp=gpar(fontsize=15))"
   ]
  },
  {
   "cell_type": "code",
   "execution_count": 40,
   "metadata": {},
   "outputs": [],
   "source": [
    "table_portfolio1 = gTree(children=gList(grob_portfolio1, title1))\n",
    "table_portfolio2 = gTree(children=gList(grob_portfolio2, title2))"
   ]
  },
  {
   "cell_type": "code",
   "execution_count": 41,
   "metadata": {},
   "outputs": [
    {
     "data": {
      "image/png": "[encoded data removed]",
      "text/plain": [
       "plot without title"
      ]
     },
     "metadata": {
      "image/png": {
       "height": 420,
       "width": 420
      }
     },
     "output_type": "display_data"
    },
    {
     "data": {
      "image/png": "[encoded data removed]",
      "text/plain": [
       "plot without title"
      ]
     },
     "metadata": {
      "image/png": {
       "height": 420,
       "width": 420
      }
     },
     "output_type": "display_data"
    }
   ],
   "source": [
    "grid.arrange(plot3, table_portfolio1, nrow=2)\n",
    "grid.arrange(plot4, table_portfolio2, nrow=2)"
   ]
  }
 ],
 "metadata": {
  "kernelspec": {
   "display_name": "R",
   "language": "R",
   "name": "ir"
  },
  "language_info": {
   "codemirror_mode": "r",
   "file_extension": ".r",
   "mimetype": "text/x-r-source",
   "name": "R",
   "pygments_lexer": "r",
   "version": "4.2.2"
  }
 },
 "nbformat": 4,
 "nbformat_minor": 4
}
